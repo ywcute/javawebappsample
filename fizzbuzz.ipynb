{
  "nbformat": 4,
  "nbformat_minor": 0,
  "metadata": {
    "colab": {
      "provenance": [],
      "authorship_tag": "ABX9TyORC64R9i8Q+s5aqVdGo6ST",
      "include_colab_link": true
    },
    "kernelspec": {
      "name": "python3",
      "display_name": "Python 3"
    },
    "language_info": {
      "name": "python"
    }
  },
  "cells": [
    {
      "cell_type": "markdown",
      "metadata": {
        "id": "view-in-github",
        "colab_type": "text"
      },
      "source": [
        "<a href=\"https://colab.research.google.com/github/ywcute/javawebappsample/blob/master/fizzbuzz.ipynb\" target=\"_parent\"><img src=\"https://colab.research.google.com/assets/colab-badge.svg\" alt=\"Open In Colab\"/></a>"
      ]
    },
    {
      "cell_type": "code",
      "execution_count": 1,
      "metadata": {
        "colab": {
          "base_uri": "https://localhost:8080/"
        },
        "id": "ao0M-6xlZXkD",
        "outputId": "ada209e3-ec9c-4f94-aca6-36e307216279"
      },
      "outputs": [
        {
          "output_type": "execute_result",
          "data": {
            "text/plain": [
              "['1',\n",
              " '2',\n",
              " 'Fizz',\n",
              " '4',\n",
              " 'Buzz',\n",
              " 'Fizz',\n",
              " '7',\n",
              " '8',\n",
              " 'Fizz',\n",
              " 'Buzz',\n",
              " '11',\n",
              " 'Fizz',\n",
              " '13',\n",
              " '14',\n",
              " 'FizzBuzz',\n",
              " '16',\n",
              " '17',\n",
              " 'Fizz',\n",
              " '19',\n",
              " 'Buzz',\n",
              " 'Fizz',\n",
              " '22',\n",
              " '23',\n",
              " 'Fizz',\n",
              " 'Buzz',\n",
              " '26',\n",
              " 'Fizz',\n",
              " '28',\n",
              " '29',\n",
              " 'FizzBuzz']"
            ]
          },
          "metadata": {},
          "execution_count": 1
        }
      ],
      "source": [
        "fb = []\n",
        "for num in range(1, 31):\n",
        "    if num % 3 == 0 and num % 5 == 0:\n",
        "        fb.append(\"FizzBuzz\")\n",
        "    elif num % 3 == 0:\n",
        "        fb.append(\"Fizz\")\n",
        "    elif num % 5 == 0:\n",
        "        fb.append(\"Buzz\")\n",
        "    else:\n",
        "        fb.append(str(num))\n",
        "\n",
        "fb"
      ]
    }
  ]
}